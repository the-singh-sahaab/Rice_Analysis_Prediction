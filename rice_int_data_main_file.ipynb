version https://git-lfs.github.com/spec/v1
oid sha256:d41dff87e624735cb2513173a3e9b5d06a8394e18b7bdf35d65b28ce634fe475
size 142345135
